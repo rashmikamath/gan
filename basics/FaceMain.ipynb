{
 "cells": [
  {
   "cell_type": "code",
   "execution_count": null,
   "metadata": {},
   "outputs": [],
   "source": [
    "import torch\n",
    "import torch.nn as nn\n",
    "from torchvision import transforms\n",
    "from torch.utils.data import Dataset, DataLoader\n",
    "import matplotlib.pyplot as plt\n",
    "import numpy as np\n",
    "\n",
    "from faces_model_test import FaceTest\n",
    "from data import ResizeTransform, EmojiDataset, MSCeleb1MDataset\n",
    "\n",
    "get_ipython().magic('matplotlib inline')\n",
    "get_ipython().magic('reload_ext autoreload')\n",
    "get_ipython().magic('autoreload 2')"
   ]
  },
  {
   "cell_type": "code",
   "execution_count": null,
   "metadata": {},
   "outputs": [],
   "source": [
    "train_set = EmojiDataset('./datasets/emoji_data/', 0, 1000000, transform=ResizeTransform(96))\n",
    "train_loader = torch.utils.data.DataLoader(train_set, batch_size=1, shuffle=True)\n",
    "\n",
    "data_iter = iter(train_loader)\n",
    "\n",
    "img_tens = data_iter.next()\n",
    "# plt.imshow(og_img)\n",
    "plt.imshow(np.transpose(img_tens.numpy()[0], (1, 2, 0)))\n",
    "plt.show()"
   ]
  },
  {
   "cell_type": "code",
   "execution_count": null,
   "metadata": {},
   "outputs": [],
   "source": [
    "train_set = EmojiDataset('./datasets/emoji_data/', 0, 1000000, transform=ResizeTransform(96))\n",
    "train_loader = torch.utils.data.DataLoader(train_set, batch_size=100, shuffle=True)\n",
    "\n",
    "data_iter = iter(train_loader)\n",
    "\n",
    "sum = torch.zeros((3))\n",
    "for i in range(0, 100):\n",
    "    if i % 1000 == 0:\n",
    "        print('data ' + str(i))\n",
    "    img = data_iter.next()\n",
    "    sum[0] += torch.sum(img[:,0,:,:])\n",
    "    sum[1] += torch.sum(img[:,1,:,:])\n",
    "    sum[2] += torch.sum(img[:,2,:,:])\n",
    "\n",
    "sum /= 100*100*96*96\n",
    "print(sum)\n",
    "\n",
    "mean = sum\n",
    "diff_sum = torch.zeros((3))\n",
    "for i in range(0, 100):\n",
    "    if i % 1000 == 0:\n",
    "        print('data ' + str(i))\n",
    "    img = data_iter.next()\n",
    "    diff_sum[0] += torch.sum((img[:,0,:,:] - mean[0])*(img[:,0,:,:] - mean[0]))\n",
    "    diff_sum[1] += torch.sum((img[:,1,:,:] - mean[1])*(img[:,1,:,:] - mean[1]))\n",
    "    diff_sum[2] += torch.sum((img[:,2,:,:] - mean[2])*(img[:,2,:,:] - mean[2]))\n",
    "\n",
    "diff_sum /= (100*100*96*96 - 1)\n",
    "std = torch.sqrt(diff_sum)\n",
    "print(std)\n",
    "    \n",
    "# img_tens = data_iter.next()\n",
    "# # plt.imshow(og_img)\n",
    "# plt.imshow(np.transpose(img_tens.numpy()[0], (1, 2, 0)))\n",
    "# plt.show()"
   ]
  },
  {
   "cell_type": "code",
   "execution_count": null,
   "metadata": {},
   "outputs": [],
   "source": [
    "train_set = MSCeleb1MDataset('./datasets/ms-celeb-1m/data/', 'train', ResizeTransform(96))\n",
    "train_loader = torch.utils.data.DataLoader(train_set, batch_size=1, shuffle=True)"
   ]
  },
  {
   "cell_type": "code",
   "execution_count": null,
   "metadata": {},
   "outputs": [],
   "source": [
    "data_iter = iter(train_loader)\n",
    "\n",
    "img_tens = data_iter.next()\n",
    "plt.imshow(np.transpose(img_tens.numpy()[0], (1, 2, 0)))\n",
    "plt.show()"
   ]
  },
  {
   "cell_type": "markdown",
   "metadata": {},
   "source": [
    "# Begin Model Testing"
   ]
  },
  {
   "cell_type": "code",
   "execution_count": null,
   "metadata": {},
   "outputs": [],
   "source": [
    "import torch\n",
    "import torch.nn as nn\n",
    "from torchvision import transforms\n",
    "from torch.utils.data import Dataset, DataLoader\n",
    "import matplotlib\n",
    "import matplotlib.pyplot as plt\n",
    "import numpy as np\n",
    "\n",
    "from faces_model_test_open import FaceTest\n",
    "from faces_model_test_sphere import FaceTestSphere\n",
    "from data import ResizeTransform, EmojiDataset, MSCeleb1MDataset\n",
    "\n",
    "get_ipython().magic('matplotlib inline')\n",
    "get_ipython().magic('reload_ext autoreload')\n",
    "get_ipython().magic('autoreload 2')"
   ]
  },
  {
   "cell_type": "code",
   "execution_count": null,
   "metadata": {},
   "outputs": [],
   "source": [
    "# test = FaceTest(use_gpu=True)\n",
    "test = FaceTestSphere(use_gpu=True)"
   ]
  },
  {
   "cell_type": "code",
   "execution_count": null,
   "metadata": {},
   "outputs": [],
   "source": [
    "test.create_data_loaders()"
   ]
  },
  {
   "cell_type": "code",
   "execution_count": null,
   "metadata": {},
   "outputs": [],
   "source": [
    "test.visualize_single_batch()"
   ]
  },
  {
   "cell_type": "code",
   "execution_count": null,
   "metadata": {},
   "outputs": [],
   "source": [
    "def get_num_parameters(model):\n",
    "    total_num=0\n",
    "    if type(model) == type(dict()):\n",
    "        for key in model:\n",
    "            for p in model[key].parameters():\n",
    "                total_num+=p.nelement()\n",
    "    else:\n",
    "        for p in model.parameters():\n",
    "            total_num+=p.nelement()\n",
    "    return total_num\n",
    "\n",
    "test.create_model()\n",
    "print(test.model)\n",
    "print('num params: ' + str(get_num_parameters(test.model)))"
   ]
  },
  {
   "cell_type": "code",
   "execution_count": null,
   "metadata": {},
   "outputs": [],
   "source": [
    "test.create_loss_function()"
   ]
  },
  {
   "cell_type": "code",
   "execution_count": null,
   "metadata": {},
   "outputs": [],
   "source": [
    "test.create_optimizer()"
   ]
  },
  {
   "cell_type": "code",
   "execution_count": null,
   "metadata": {},
   "outputs": [],
   "source": [
    "kwargs = {}\n",
    "kwargs[\"visualize_batches\"] = 10\n",
    "kwargs[\"save_batches\"] = 50\n",
    "test.train_model(num_epochs=3, **kwargs)"
   ]
  },
  {
   "cell_type": "code",
   "execution_count": null,
   "metadata": {},
   "outputs": [],
   "source": [
    "checkpoint_name = './log/1513065292_0_1099.tar' "
   ]
  },
  {
   "cell_type": "code",
   "execution_count": null,
   "metadata": {},
   "outputs": [],
   "source": [
    "torch.save(test.log, checkpoint_name)"
   ]
  },
  {
   "cell_type": "code",
   "execution_count": null,
   "metadata": {},
   "outputs": [],
   "source": [
    "log=torch.load(checkpoint_name)\n",
    "G_model=log['G_model']\n",
    "D_model=log['D_model']\n",
    "test.log = log\n",
    "test.model['G'] = G_model\n",
    "test.model['D'] = D_model"
   ]
  },
  {
   "cell_type": "code",
   "execution_count": null,
   "metadata": {},
   "outputs": [],
   "source": [
    "plt.figure()\n",
    "matplotlib.rcParams['font.size'] = 14\n",
    "for key in test.log:\n",
    "    if 'loss' in key and test.log[key] is not None:\n",
    "        y = test.log[key][2:]\n",
    "        x = np.arange(0, 11450, 50)\n",
    "        plt.plot(y,label=key)\n",
    "        plt.legend()\n",
    "#         plt.ylabel('Loss')\n",
    "#         plt.xlabel('Batches (size 128)')\n",
    "        plt.show()"
   ]
  },
  {
   "cell_type": "code",
   "execution_count": null,
   "metadata": {},
   "outputs": [],
   "source": []
  },
  {
   "cell_type": "code",
   "execution_count": null,
   "metadata": {},
   "outputs": [],
   "source": []
  }
 ],
 "metadata": {
  "kernelspec": {
   "display_name": "Python 3",
   "language": "python",
   "name": "python3"
  },
  "language_info": {
   "codemirror_mode": {
    "name": "ipython",
    "version": 3
   },
   "file_extension": ".py",
   "mimetype": "text/x-python",
   "name": "python",
   "nbconvert_exporter": "python",
   "pygments_lexer": "ipython3",
   "version": "3.5.2"
  }
 },
 "nbformat": 4,
 "nbformat_minor": 2
}
